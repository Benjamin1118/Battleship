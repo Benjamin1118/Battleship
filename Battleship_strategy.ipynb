{
  "nbformat": 4,
  "nbformat_minor": 0,
  "metadata": {
    "colab": {
      "name": "Battleship_strategy.ipynb",
      "provenance": [],
      "authorship_tag": "ABX9TyM3ZNoe9AT9bUQMCagk3mQ4",
      "include_colab_link": true
    },
    "kernelspec": {
      "name": "python3",
      "display_name": "Python 3"
    }
  },
  "cells": [
    {
      "cell_type": "markdown",
      "metadata": {
        "id": "view-in-github",
        "colab_type": "text"
      },
      "source": [
        "<a href=\"https://colab.research.google.com/github/Benjamin1118/Battleship/blob/main/Battleship_strategy.ipynb\" target=\"_parent\"><img src=\"https://colab.research.google.com/assets/colab-badge.svg\" alt=\"Open In Colab\"/></a>"
      ]
    },
    {
      "cell_type": "markdown",
      "metadata": {
        "id": "93Wb1uEspsrQ"
      },
      "source": [
        "Where are the best spots to aim for when playing battleship? \r\n",
        "In this colab, I will build a board and keep track of all places ships are placed.\r\n"
      ]
    },
    {
      "cell_type": "code",
      "metadata": {
        "colab": {
          "base_uri": "https://localhost:8080/"
        },
        "id": "xpsmXAG3dOtS",
        "outputId": "be5abed4-426e-40df-a263-fefc6408007b"
      },
      "source": [
        "# import libraries\r\n",
        "import pandas as pd\r\n",
        "import numpy as np\r\n",
        "import random\r\n",
        "import matplotlib.pyplot as plt\r\n",
        "from matplotlib import colors\r\n",
        "\r\n",
        "\r\n",
        "#create top and side of board game\r\n",
        "top, side = [1,2,3,4,5,6,7,8,9,10], ['A','B','C','D','E','F','G','H','I','J']\r\n",
        "print(top,side)"
      ],
      "execution_count": 7,
      "outputs": [
        {
          "output_type": "stream",
          "text": [
            "[1, 2, 3, 4, 5, 6, 7, 8, 9, 10] ['A', 'B', 'C', 'D', 'E', 'F', 'G', 'H', 'I', 'J']\n"
          ],
          "name": "stdout"
        }
      ]
    },
    {
      "cell_type": "code",
      "metadata": {
        "id": "zTRlCkQJjBv0"
      },
      "source": [
        "# cobmine top and side to localize every point on game A1 B7 ...\r\n",
        "#\r\n",
        "# unsure how to correctly cobine them at this point...  \r\n",
        "# for i in side:\r\n",
        "#   rows = [side[i] + top[i]] \r\n",
        "# rows"
      ],
      "execution_count": 8,
      "outputs": []
    },
    {
      "cell_type": "code",
      "metadata": {
        "id": "IBA0rXeIjBH7"
      },
      "source": [
        ""
      ],
      "execution_count": 8,
      "outputs": []
    },
    {
      "cell_type": "code",
      "metadata": {
        "colab": {
          "base_uri": "https://localhost:8080/"
        },
        "id": "k0gyuneFeQni",
        "outputId": "813c1ea3-b155-4160-a78e-af77507494ec"
      },
      "source": [
        "# make grids for both 'players' and test it looks right\r\n",
        "g1 = [['A1','A2','A3','A4','A5','A6','A7','A8','A9','A10'],\r\n",
        "      ['B1','B2','B3','B4','B5','B6','B7','B8','B9','B10'],\r\n",
        "      ['C1','C2','C3','C4','C5','C6','C7','C8','C9','C10'],\r\n",
        "      ['D1','D2','D3','D4','D5','D6','D7','D8','D9','D10'],\r\n",
        "      ['E1','E2','E3','E4','E5','E6','E7','E8','E9','E10'],\r\n",
        "      ['F1','F2','F3','F4','F5','F6','F7','F8','F9','F10'],\r\n",
        "      ['G1','G2','G3','G4','G5','G6','G7','G8','G9','G10'],\r\n",
        "      ['H1','H2','H3','H4','H5','H6','H7','H8','H9','H10'],\r\n",
        "      ['I1','I2','I3','I4','I5','I6','I7','I8','I9','I10'],\r\n",
        "      ['J1','J2','J3','J4','J5','J6','J7','J8','J9','J10']]\r\n",
        "\r\n",
        "\r\n",
        "g1"
      ],
      "execution_count": 9,
      "outputs": [
        {
          "output_type": "execute_result",
          "data": {
            "text/plain": [
              "[['A1', 'A2', 'A3', 'A4', 'A5', 'A6', 'A7', 'A8', 'A9', 'A10'],\n",
              " ['B1', 'B2', 'B3', 'B4', 'B5', 'B6', 'B7', 'B8', 'B9', 'B10'],\n",
              " ['C1', 'C2', 'C3', 'C4', 'C5', 'C6', 'C7', 'C8', 'C9', 'C10'],\n",
              " ['D1', 'D2', 'D3', 'D4', 'D5', 'D6', 'D7', 'D8', 'D9', 'D10'],\n",
              " ['E1', 'E2', 'E3', 'E4', 'E5', 'E6', 'E7', 'E8', 'E9', 'E10'],\n",
              " ['F1', 'F2', 'F3', 'F4', 'F5', 'F6', 'F7', 'F8', 'F9', 'F10'],\n",
              " ['G1', 'G2', 'G3', 'G4', 'G5', 'G6', 'G7', 'G8', 'G9', 'G10'],\n",
              " ['H1', 'H2', 'H3', 'H4', 'H5', 'H6', 'H7', 'H8', 'H9', 'H10'],\n",
              " ['I1', 'I2', 'I3', 'I4', 'I5', 'I6', 'I7', 'I8', 'I9', 'I10'],\n",
              " ['J1', 'J2', 'J3', 'J4', 'J5', 'J6', 'J7', 'J8', 'J9', 'J10']]"
            ]
          },
          "metadata": {
            "tags": []
          },
          "execution_count": 9
        }
      ]
    },
    {
      "cell_type": "code",
      "metadata": {
        "id": "NAWO6d8teQqU"
      },
      "source": [
        "carrier = [0]   # takes 5 hits\r\n",
        "\r\n",
        "battle = [1]    # takes 4 hits\r\n",
        "\r\n",
        "cruiser = [2]   # takes 3 hits\r\n",
        "\r\n",
        "sub = [3]       # takes 3 hits\r\n",
        "\r\n",
        "destroyer = [4] # takes 2 hits\r\n",
        "\r\n",
        "\r\n",
        "# name all ship options\r\n",
        "ships = [carrier, battle, cruiser, sub, destroyer]\r\n"
      ],
      "execution_count": 14,
      "outputs": []
    },
    {
      "cell_type": "code",
      "metadata": {
        "colab": {
          "base_uri": "https://localhost:8080/"
        },
        "id": "KhRHDBN8eQsv",
        "outputId": "8daf6786-6eb8-4a67-b78e-9e61898bc398"
      },
      "source": [
        "# build a randomizer that will place the ships in appropriate places\r\n",
        "# aka carrier needs to be in a row or column of 5 etc\r\n",
        "\r\n",
        "# ships can't occupy same space, so build a placement tracker\r\n",
        "# once ship is placed enter placement in array\r\n",
        "placement = []\r\n",
        "\r\n",
        "# function that places ships in random starting spots\r\n",
        "\r\n",
        "def placer(ship):\r\n",
        "  # for every ship choose a starting point \r\n",
        "  # but check that it hasn't been taken yet first.\r\n",
        "  for ship in ships:\r\n",
        "    ship_rand = random.choice(random.choice(g1)) \r\n",
        "    if ship_rand not in placement:\r\n",
        "      placement.append(ship_rand)\r\n",
        "      # assign actual points to the ships\r\n",
        "      ships[ship[0]] = [ship_rand] \r\n",
        "     \r\n",
        "    \r\n",
        "placer(ships)\r\n",
        "\r\n",
        "\r\n",
        "print(ships) # can be removed once code is more functional\r\n",
        "# this will print initial outputs for each ship\r\n",
        "\r\n"
      ],
      "execution_count": 15,
      "outputs": [
        {
          "output_type": "stream",
          "text": [
            "[['G6'], ['D5'], ['C3'], ['E8'], ['F4']]\n"
          ],
          "name": "stdout"
        }
      ]
    },
    {
      "cell_type": "code",
      "metadata": {
        "id": "BS3hFLQ-t99N"
      },
      "source": [
        "# write a small function that will randomly choose if the ships will be\r\n",
        "# in the row or column\r\n",
        "\r\n",
        "r_c = [0, 1] # 0 is row, 1 is column\r\n",
        "def random_r_c():\r\n",
        "  return random.choice(r_c)"
      ],
      "execution_count": null,
      "outputs": []
    },
    {
      "cell_type": "code",
      "metadata": {
        "id": "TiXi_or_eQv2"
      },
      "source": [
        "# not fully functional yet. but should choose the orientation of the ships\r\n",
        "# then choose the spots in that row or col. \r\n",
        "\r\n",
        "# add repaining spots for each ship\r\n",
        "def finishes_ships(ship ):\r\n",
        "  for ship in ships:\r\n",
        "    if ship is carrier:\r\n",
        "      while len(ship) <= 5: # this might need to change from ship to carrier\r\n",
        "        if random_r_c == 0:\r\n",
        "          # I need to in/de-crease the number then check if it is in proper len\r\n",
        "          add_one_r(carrier, 5)\r\n",
        "        else: # randomr_r_c choose row\r\n",
        "          # I need to \"in/de-crease\" the letter then check if it is in proper len\r\n",
        "          add_one_c(carrier)\r\n",
        "    elif ship is battle:\r\n",
        "      while len(ship) <= 4:\r\n",
        "        if random_r_c == 0:\r\n",
        "          add_one_r(battle, 4)\r\n",
        "        else:\r\n",
        "          add_one_c(battle, 4)\r\n",
        "\r\n",
        "    elif ship is cruiser:\r\n",
        "      while len(ship) <= 3:\r\n",
        "        if random_r_c == 0:\r\n",
        "          add_one_r(cruiser, 3)\r\n",
        "        else:\r\n",
        "          add_one_c(cruiser, 3)\r\n",
        "\r\n",
        "    elif ship is sub:\r\n",
        "      while len(ship) <= 3:\r\n",
        "        if random_r_c == 0:\r\n",
        "          add_one_r(sub, 3)\r\n",
        "        else:\r\n",
        "          add_one_c(sub, 3)\r\n",
        "\r\n",
        "    else: #ship is destroyer:\r\n",
        "      while len(ship) <= 2:\r\n",
        "        if random_r_c == 0:\r\n",
        "          add_one_r(destroyer, 2)\r\n",
        "        else:\r\n",
        "          add_one_c(destroyer, 2)\r\n",
        "  return placement\r\n"
      ],
      "execution_count": null,
      "outputs": []
    },
    {
      "cell_type": "code",
      "metadata": {
        "id": "d9mV8tTuHW23"
      },
      "source": [
        "# this function will add one to the row, if point is c4 it should add c3 or c5\r\n",
        "\r\n",
        "# this is where I'm hitting issues. there are multiple ways to do this\r\n",
        "# and I want your opinion for doing it easier\r\n",
        "# \r\n",
        "\r\n",
        "\r\n",
        "# I want to randomly choose using random_r_c to go up or down from initial point\r\n",
        "# but this will hit issues if it tried to place it in a spot a ship is already ir\r\n",
        "# or if it hits the edge of the board ie 0 or 11 cause those points don't exsist\r\n",
        "# So options\r\n",
        "# 1. get the point if c4 and if using cruiser (5 spots)  make the next point c5, cause then it can finish plotting it out as origonally designed.\r\n",
        "#   1a, the issue with this is that if I have ships in two col on either side of this point, then I have to change the orienataion to match those other ships\r\n",
        "# 2. Just let it go and if it hits an edge 1,10, etc to make it go the other way if its at c9, it can choose to go up or down but if it hits c10 then from there on out it has to go down\r\n",
        "#   2a. the issue with this is that if I accidently box myself into a corner. I'd have to somehow make the program relocate that ship\r\n",
        "#   example ships are in d1- d5, and a2 - c2 and I have a point at b2, and it chooses to increase the cols Not a likely situation, but it is possible\r\n",
        "\r\n",
        "\r\n",
        "\r\n",
        "def add_one_r(ship, length):\r\n",
        "  # this fucntion will add one point to the row\r\n",
        "  # get the coord (number) for position\r\n",
        "  cord =re.split('(\\d+)',ship[0])\r\n",
        "  # if at edge 1, then new points must be added going up.\r\n",
        "  if cord[1] == 1:    \r\n",
        "    cord[1] += (length-1) # if it was 1 now it's 5 or 4 depending on the length\r\n",
        "    new_point = cord[0].join(cord[1]) # join the letter to the numbers\r\n",
        "    new_points = [i for i in range(cord, new_point)]\r\n",
        "    if new_points not in placement: # check that it's not already being used\r\n",
        "      placement.append(new_points) # append to used places\r\n",
        "      ship.append(new_points) # append to the ship\r\n",
        "    else: # Boxed in and I need to fix somehow.\r\n",
        "      # return and change orienatation to col\r\n",
        "  elif cord[1] ==10: # if value is 10 next value is 9\r\n",
        "    cord[1] -= 1 # \r\n",
        "    new_point = cord[0].join(cord[1])\r\n",
        "    if new_point not in placement:\r\n",
        "      placement.append(new_point)\r\n",
        "      ship.append(new_point)\r\n",
        "\r\n",
        "# add a range rather than just one at a time\r\n",
        "# if starting point was G6, choose row or col and add 4 to that just justifying that it is not used and not hitting an edge.\r\n",
        "\r\n",
        "\r\n",
        "  #   random_r_c = 1\r\n",
        "  # elif: cord[1] == 1:\r\n",
        "  #   random_r_c = 0\r\n",
        "  # else:\r\n",
        "  #   random_r_c\r\n",
        "  #   if random_r_c() == 1: # go up so if 3 now 4\r\n",
        "  #     cord[1] += 1\r\n",
        "  #     new = cord[0].join(cord[1])\r\n",
        "  #     placement.append(new)\r\n",
        "  #     ship.append(new)\r\n",
        "\r\n",
        "  #   else:\r\n",
        "  #     cord[1] -= 1\r\n",
        "  #     new = cord[0].join(cord[1])\r\n",
        "  #     placement.append(new)\r\n",
        "  #     ship.append(new)\r\n"
      ],
      "execution_count": null,
      "outputs": []
    },
    {
      "cell_type": "code",
      "metadata": {
        "id": "B0n2WKvUt-Al"
      },
      "source": [
        "# not finished yet, but will look fairly similar to cell above just changing the letters not numbers.\r\n",
        "\r\n",
        "def add_one_c(ship):\r\n",
        "  # this fucntion will add one point to the row\r\n",
        "  cord =re.split('(\\d+)',ship[0])\r\n",
        "  if cord[0] + len(ship) not in range(ord('a'), ord('j')):\r\n"
      ],
      "execution_count": null,
      "outputs": []
    },
    {
      "cell_type": "code",
      "metadata": {
        "id": "3Ce-A9R1t-DO"
      },
      "source": [
        "r_c = [\"row\", \"column\"]\r\n",
        "def random_r_c():\r\n",
        "  return random.choice(r_c)"
      ],
      "execution_count": null,
      "outputs": []
    },
    {
      "cell_type": "code",
      "metadata": {
        "id": "H0KzRLX8t-GI"
      },
      "source": [
        "random_r_c()"
      ],
      "execution_count": null,
      "outputs": []
    },
    {
      "cell_type": "code",
      "metadata": {
        "id": "tOYp2FTCt-JN"
      },
      "source": [
        ""
      ],
      "execution_count": null,
      "outputs": []
    },
    {
      "cell_type": "code",
      "metadata": {
        "id": "_Pu3Y6zSt-MG"
      },
      "source": [
        "if cord[1] <= 1 # if cord[1] is less than 1 in the range of the ship add 1 to all it's elements.\r\n",
        "if cord[1] >-11 # if cord[1] is greater than 10 in range of ship subtract 1 to all it's elements."
      ],
      "execution_count": null,
      "outputs": []
    },
    {
      "cell_type": "code",
      "metadata": {
        "id": "5188Dk1t5MoN"
      },
      "source": [
        "def add_one_r_n(ship, length):\r\n",
        "  cord =re.split('(\\d+)',ship[0]) # get the elements seperated\r\n",
        "  random_r_c # run the randomizer to see if I will go up or down from original point\r\n",
        "  if random_r_c == 1: # end point will be more than original \r\n",
        "    end = (cord[1] + (length-1))\r\n",
        "  else: # random_r_c was 0 end point will be less\r\n",
        "    end = cord[1] - (length-1)\r\n",
        "  # check that all points are in range (1,10)\r\n",
        "  if cord[1] < end: # check which is lower and go least to greatest checking values\r\n",
        "    for i in range(cord[1], end):\r\n",
        "      if i < 1:\r\n",
        "        print(\"Error, code gave value < 1 to a ship\")\r\n",
        "  elif i > 10:\r\n",
        "    while i > 10:\r\n",
        "      for i in range(cord[1], end):\r\n",
        "        i -= 1\r\n",
        "\r\n",
        "  else:\r\n",
        "    for i in range(end,cord[1]):\r\n",
        "      if i < 1:\r\n",
        "        while i < 1:\r\n",
        "          for i in range(end,cord[1]):\r\n",
        "            i += 1"
      ],
      "execution_count": 5,
      "outputs": []
    },
    {
      "cell_type": "code",
      "metadata": {
        "id": "rIBrHAa0AbFn"
      },
      "source": [
        ""
      ],
      "execution_count": null,
      "outputs": []
    }
  ]
}